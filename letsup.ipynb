{
  "nbformat": 4,
  "nbformat_minor": 0,
  "metadata": {
    "colab": {
      "name": "letsup.ipynb",
      "provenance": []
    },
    "kernelspec": {
      "name": "python3",
      "display_name": "Python 3"
    }
  },
  "cells": [
    {
      "cell_type": "markdown",
      "metadata": {
        "id": "khglPyvWwqBU",
        "colab_type": "text"
      },
      "source": [
        "**LIST**\n",
        "\n",
        "*Lists are just like dynamic sized arrays.Lists need not be homogeneous always which makes it a most powerful tool in Python. A single list may contain DataTypes like Integers, Strings, as well as Objects. Lists are mutable, and hence, they can be altered even after their creation.*"
      ]
    },
    {
      "cell_type": "code",
      "metadata": {
        "id": "SEDjlGCowpI-",
        "colab_type": "code",
        "colab": {
          "base_uri": "https://localhost:8080/",
          "height": 52
        },
        "outputId": "eecc25b5-7506-4315-f8aa-069fa3bedd09"
      },
      "source": [
        "List = [] \n",
        "print(\"Blank List: \") \n",
        "print(List)"
      ],
      "execution_count": 24,
      "outputs": [
        {
          "output_type": "stream",
          "text": [
            "Blank List: \n",
            "[]\n"
          ],
          "name": "stdout"
        }
      ]
    },
    {
      "cell_type": "code",
      "metadata": {
        "id": "T6jts8L1rPvi",
        "colab_type": "code",
        "colab": {
          "base_uri": "https://localhost:8080/",
          "height": 52
        },
        "outputId": "91a7afac-d0f7-4957-8eb6-013a6f8d34f6"
      },
      "source": [
        "list1 = ['physics', 'chemistry', 1997, 2000];\n",
        "list2 = [1, 2, 3, 4, 5, 6, 7 ];\n",
        "print (\"list1[0]: \", \"list1[0]\")\n",
        "print (\"list2[1:5]: \", list2[1:5])"
      ],
      "execution_count": 7,
      "outputs": [
        {
          "output_type": "stream",
          "text": [
            "list1[0]:  list1[0]\n",
            "list2[1:5]:  [2, 3, 4, 5]\n"
          ],
          "name": "stdout"
        }
      ]
    },
    {
      "cell_type": "markdown",
      "metadata": {
        "id": "Bnqpz2YWsNyY",
        "colab_type": "text"
      },
      "source": [
        "**Dictionay**\n",
        "\n",
        "Dictionary in Python is an unordered collection of data values that are used to store data values like a map. Unlike other Data Types that hold only single value as an element, the Dictionary holds key:value pair.\n",
        "Each key is separated from its value by a colon (:), the items are separated by commas, and the whole thing is enclosed in curly braces. An empty dictionary without any items is written with just two curly braces, like this: {}.*"
      ]
    },
    {
      "cell_type": "code",
      "metadata": {
        "id": "TAxd0Bj3sjQI",
        "colab_type": "code",
        "colab": {
          "base_uri": "https://localhost:8080/",
          "height": 52
        },
        "outputId": "a1d9cd74-a3c6-49f9-bb77-04886822cf30"
      },
      "source": [
        "dict = {'Name': 'Vishwa', 'Age': 20, 'Class': 'First'}\n",
        "dict['Age'] = 8; # update existing entry\n",
        "dict['School'] = \"DPS School\"; # Add new entry\n",
        "\n",
        "print (\"dict['Age']: \", dict['Age'])\n",
        "print (\"dict['School']: \", dict['School'])"
      ],
      "execution_count": 10,
      "outputs": [
        {
          "output_type": "stream",
          "text": [
            "dict['Age']:  8\n",
            "dict['School']:  DPS School\n"
          ],
          "name": "stdout"
        }
      ]
    },
    {
      "cell_type": "code",
      "metadata": {
        "id": "ZcwKKG_stT3V",
        "colab_type": "code",
        "colab": {}
      },
      "source": [
        ""
      ],
      "execution_count": null,
      "outputs": []
    },
    {
      "cell_type": "markdown",
      "metadata": {
        "id": "n0h_SVrqtt8E",
        "colab_type": "text"
      },
      "source": [
        "**SETS**\n",
        "\n",
        "\n",
        "*Python allows function arguments to have default values. If the function is called without the argument, the argument gets its default value.*"
      ]
    },
    {
      "cell_type": "code",
      "metadata": {
        "id": "tZ34zKLLttg5",
        "colab_type": "code",
        "colab": {
          "base_uri": "https://localhost:8080/",
          "height": 87
        },
        "outputId": "95c609fb-37b3-4527-873d-1dc2efeb0475"
      },
      "source": [
        "def student(firstname, lastname ='Mark', standard ='Fifth'): \n",
        "     print(firstname, lastname, 'studies in', standard, 'Standard') \n",
        "\n",
        "     # 1 positional argument \n",
        "student('vishwa')  \n",
        "  \n",
        "# 3 positional arguments                          \n",
        "student('Vishwa', 'Akhil', 'Seventh')      \n",
        "  \n",
        "# 2 positional arguments   \n",
        "student('vishwa', 'first')                   \n",
        "student('Vishwa', 'Seventhe') "
      ],
      "execution_count": 14,
      "outputs": [
        {
          "output_type": "stream",
          "text": [
            "vishwa Mark studies in Fifth Standard\n",
            "Vishwa Akhil studies in Seventh Standard\n",
            "vishwa first studies in Fifth Standard\n",
            "Vishwa Seventhe studies in Fifth Standard\n"
          ],
          "name": "stdout"
        }
      ]
    },
    {
      "cell_type": "code",
      "metadata": {
        "id": "7c0HNIzgt48Q",
        "colab_type": "code",
        "colab": {}
      },
      "source": [
        ""
      ],
      "execution_count": null,
      "outputs": []
    },
    {
      "cell_type": "markdown",
      "metadata": {
        "id": "pfkIJji6uQK1",
        "colab_type": "text"
      },
      "source": [
        "**Tuple**\n",
        "\n",
        "*A tuple is a collection of objects which ordered and immutable. Tuples are sequences, just like lists. The differences between tuples and lists are, the tuples cannot be changed unlike lists and tuples use parentheses, whereas lists use square brackets.*"
      ]
    },
    {
      "cell_type": "code",
      "metadata": {
        "id": "WrODGFlruPW8",
        "colab_type": "code",
        "colab": {
          "base_uri": "https://localhost:8080/",
          "height": 34
        },
        "outputId": "19a004c1-d974-4e60-deae-f5386c6b18e5"
      },
      "source": [
        "tuple1 = 'letsupgrade' \n",
        "print(tuple1) "
      ],
      "execution_count": 19,
      "outputs": [
        {
          "output_type": "stream",
          "text": [
            "letsupgrade\n"
          ],
          "name": "stdout"
        }
      ]
    },
    {
      "cell_type": "code",
      "metadata": {
        "id": "Qx1UYWWlvEBR",
        "colab_type": "code",
        "colab": {
          "base_uri": "https://localhost:8080/",
          "height": 34
        },
        "outputId": "b789825d-1a6a-440a-dbde-7257b81b1841"
      },
      "source": [
        "string = \"LETSUPGRADE\" \n",
        "tuple4 = tuple(string) \n",
        "print(tuple4) "
      ],
      "execution_count": 17,
      "outputs": [
        {
          "output_type": "stream",
          "text": [
            "('L', 'E', 'T', 'S', 'U', 'P', 'G', 'R', 'A', 'D', 'E')\n"
          ],
          "name": "stdout"
        }
      ]
    },
    {
      "cell_type": "code",
      "metadata": {
        "id": "DXRcLrzWvIOa",
        "colab_type": "code",
        "colab": {}
      },
      "source": [
        ""
      ],
      "execution_count": null,
      "outputs": []
    },
    {
      "cell_type": "markdown",
      "metadata": {
        "id": "FghXt8H0vTOH",
        "colab_type": "text"
      },
      "source": [
        "**STRING**\n",
        "\n",
        "*Various string methods such as center(), count(),  find(), format(), index(), isalnum(), lower(), maketrans(), replace()etc. are incorporated by Python environment, and that are provided as in-built tools to the user, so that the user can manipulate the text data, perform requisite operations over the string, in the context of text analysis, based on the requirement, are termed as Python string functions.*"
      ]
    },
    {
      "cell_type": "code",
      "metadata": {
        "id": "azholUBbvSqr",
        "colab_type": "code",
        "colab": {
          "base_uri": "https://localhost:8080/",
          "height": 52
        },
        "outputId": "c322540d-9ea9-4f3d-9d0c-34a0d2a28d45"
      },
      "source": [
        "def greet(name, msg=\"Good morning!\"):\n",
        "    \n",
        "\n",
        "    print(\"Hello\", name + ', ' + msg)\n",
        "\n",
        "\n",
        "greet(\"letsupgrade\")\n",
        "greet(\"vishwa\", \"How do you do?\")"
      ],
      "execution_count": 23,
      "outputs": [
        {
          "output_type": "stream",
          "text": [
            "Hello letsupgrade, Good morning!\n",
            "Hello vishwa, How do you do?\n"
          ],
          "name": "stdout"
        }
      ]
    },
    {
      "cell_type": "code",
      "metadata": {
        "id": "SWX9fRQ1wUgo",
        "colab_type": "code",
        "colab": {}
      },
      "source": [
        ""
      ],
      "execution_count": null,
      "outputs": []
    }
  ]
}