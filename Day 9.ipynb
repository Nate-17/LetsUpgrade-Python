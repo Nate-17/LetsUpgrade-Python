{
 "cells": [
  {
   "cell_type": "markdown",
   "metadata": {},
   "source": [
    "# Unit Testing"
   ]
  },
  {
   "cell_type": "code",
   "execution_count": 1,
   "metadata": {
    "scrolled": false
   },
   "outputs": [
    {
     "name": "stdout",
     "output_type": "stream",
     "text": [
      "Requirement already satisfied: pylint in c:\\users\\ndeshpande\\anaconda3\\lib\\site-packages (2.5.3)\n",
      "Requirement already satisfied: isort<5,>=4.2.5 in c:\\users\\ndeshpande\\anaconda3\\lib\\site-packages (from pylint) (4.3.21)\n",
      "Requirement already satisfied: toml>=0.7.1 in c:\\users\\ndeshpande\\anaconda3\\lib\\site-packages (from pylint) (0.10.1)\n",
      "Requirement already satisfied: mccabe<0.7,>=0.6 in c:\\users\\ndeshpande\\anaconda3\\lib\\site-packages (from pylint) (0.6.1)\n",
      "Requirement already satisfied: colorama; sys_platform == \"win32\" in c:\\users\\ndeshpande\\anaconda3\\lib\\site-packages (from pylint) (0.4.3)\n",
      "Requirement already satisfied: astroid<=2.5,>=2.4.0 in c:\\users\\ndeshpande\\anaconda3\\lib\\site-packages (from pylint) (2.4.2)\n",
      "Requirement already satisfied: wrapt~=1.11 in c:\\users\\ndeshpande\\anaconda3\\lib\\site-packages (from astroid<=2.5,>=2.4.0->pylint) (1.11.2)\n",
      "Requirement already satisfied: six~=1.12 in c:\\users\\ndeshpande\\anaconda3\\lib\\site-packages (from astroid<=2.5,>=2.4.0->pylint) (1.15.0)\n",
      "Requirement already satisfied: lazy-object-proxy==1.4.* in c:\\users\\ndeshpande\\anaconda3\\lib\\site-packages (from astroid<=2.5,>=2.4.0->pylint) (1.4.3)\n"
     ]
    }
   ],
   "source": [
    "! pip install pylint"
   ]
  },
  {
   "cell_type": "code",
   "execution_count": 4,
   "metadata": {},
   "outputs": [
    {
     "name": "stdout",
     "output_type": "stream",
     "text": [
      "Collecting unittest2\n",
      "  Downloading unittest2-1.1.0-py2.py3-none-any.whl (96 kB)\n",
      "Requirement already satisfied: six>=1.4 in c:\\users\\ndeshpande\\anaconda3\\lib\\site-packages (from unittest2) (1.15.0)\n",
      "Collecting argparse\n",
      "  Downloading argparse-1.4.0-py2.py3-none-any.whl (23 kB)\n",
      "Collecting traceback2\n",
      "  Downloading traceback2-1.4.0-py2.py3-none-any.whl (16 kB)\n",
      "Collecting linecache2\n",
      "  Downloading linecache2-1.0.0-py2.py3-none-any.whl (12 kB)\n",
      "Installing collected packages: argparse, linecache2, traceback2, unittest2\n",
      "Successfully installed argparse-1.4.0 linecache2-1.0.0 traceback2-1.4.0 unittest2-1.1.0\n"
     ]
    }
   ],
   "source": [
    "! pip install unittest2"
   ]
  },
  {
   "cell_type": "code",
   "execution_count": 9,
   "metadata": {},
   "outputs": [
    {
     "name": "stdout",
     "output_type": "stream",
     "text": [
      "Overwriting primenumber.py\n"
     ]
    }
   ],
   "source": [
    "%%writefile primenumber.py\n",
    "'''\n",
    "This is a module to check weather the given number is even or odd.''\n",
    "'''\n",
    "def prime(num):\n",
    "    '''\n",
    "    This is the main function which check out the given number is even or odd.\n",
    "    '''\n",
    "    if num > 1:\n",
    "        for i in range(2, num):\n",
    "            if (num % i) == 0:\n",
    "                break\n",
    "            return print(\"It is a Prime Number\")\n",
    "    return print(\"It is not a Prime Number\")\n",
    "n = int(input(\"enter the number :\"))\n",
    "prime(n)"
   ]
  },
  {
   "cell_type": "code",
   "execution_count": 10,
   "metadata": {},
   "outputs": [
    {
     "name": "stdout",
     "output_type": "stream",
     "text": [
      "\n",
      "------------------------------------\n",
      "\n",
      "Your code has been rated at 10.00/10\n",
      "\n",
      "\n",
      "\n"
     ]
    }
   ],
   "source": [
    "! pylint \"primenumber.py\""
   ]
  },
  {
   "cell_type": "code",
   "execution_count": 11,
   "metadata": {},
   "outputs": [
    {
     "name": "stdout",
     "output_type": "stream",
     "text": [
      "Overwriting capital.py\n"
     ]
    }
   ],
   "source": [
    "%%writefile capital.py\n",
    "\n",
    "def capText(string_To_Cap):\n",
    "    return string_To_Cap.title()"
   ]
  },
  {
   "cell_type": "code",
   "execution_count": 14,
   "metadata": {},
   "outputs": [
    {
     "name": "stdout",
     "output_type": "stream",
     "text": [
      "Overwriting test.py\n"
     ]
    }
   ],
   "source": [
    "%%writefile test.py\n",
    "\n",
    "import unittest\n",
    "import capital\n",
    "\n",
    "class testPrimeNumber(unittest.TestCase):\n",
    "    def testOne(self):\n",
    "        result = capital.capText(\"Nate\")\n",
    "        self.assertEqual(result,\"Nate\") \n",
    "    def testSecond(self):\n",
    "        result = capital.capText(\"this is a text string to test the unittest on a file\")\n",
    "        self.assertEqual(result,\"This Is A Text String To Test The Unittest On A File\")\n",
    "        \n",
    "if __name__ == \"__main__\":\n",
    "    unittest.main()"
   ]
  },
  {
   "cell_type": "code",
   "execution_count": 15,
   "metadata": {},
   "outputs": [
    {
     "name": "stderr",
     "output_type": "stream",
     "text": [
      "..\n",
      "----------------------------------------------------------------------\n",
      "Ran 2 tests in 0.000s\n",
      "\n",
      "OK\n"
     ]
    }
   ],
   "source": [
    "! python test.py"
   ]
  },
  {
   "cell_type": "markdown",
   "metadata": {},
   "source": [
    "# ARMSTRONG NUMBER"
   ]
  },
  {
   "cell_type": "code",
   "execution_count": 17,
   "metadata": {},
   "outputs": [],
   "source": [
    "def armstrong(num):\n",
    "    for x in range(1,num):\n",
    "        if x>10:\n",
    "            order = len(str(x))\n",
    "            sum = 0\n",
    "\n",
    "            temp = x\n",
    "            while temp > 0:\n",
    "                digit = temp % 10\n",
    "                sum += digit ** order\n",
    "                temp //= 10\n",
    "\n",
    "            if x == sum:\n",
    "                yield print(\"Armstrong Nubmer is : \", x)"
   ]
  },
  {
   "cell_type": "code",
   "execution_count": 18,
   "metadata": {},
   "outputs": [
    {
     "name": "stdout",
     "output_type": "stream",
     "text": [
      "Armstrong Nubmer is :  153\n",
      "Armstrong Nubmer is :  370\n",
      "Armstrong Nubmer is :  371\n",
      "Armstrong Nubmer is :  407\n"
     ]
    }
   ],
   "source": [
    "lst = list(armstrong(1000))"
   ]
  },
  {
   "cell_type": "code",
   "execution_count": null,
   "metadata": {},
   "outputs": [],
   "source": []
  }
 ],
 "metadata": {
  "kernelspec": {
   "display_name": "Python 3",
   "language": "python",
   "name": "python3"
  },
  "language_info": {
   "codemirror_mode": {
    "name": "ipython",
    "version": 3
   },
   "file_extension": ".py",
   "mimetype": "text/x-python",
   "name": "python",
   "nbconvert_exporter": "python",
   "pygments_lexer": "ipython3",
   "version": "3.8.3"
  }
 },
 "nbformat": 4,
 "nbformat_minor": 4
}
