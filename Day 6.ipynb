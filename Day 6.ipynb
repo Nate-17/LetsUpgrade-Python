{
 "cells": [
  {
   "cell_type": "code",
   "execution_count": 23,
   "metadata": {},
   "outputs": [],
   "source": [
    "class bankaccount:\n",
    "  def __init__(self, name, balance):\n",
    "    self.name = name\n",
    "    self.balance = balance\n",
    "\n",
    "  def myfunc(self):\n",
    "    print(\"Name is \" , self.name)\n",
    "    print(\"Balance is \" , self.balance)\n",
    "    \n",
    "  def deposit(self):\n",
    "    add=0\n",
    "    print(\"Name is holder is\" , self.name)\n",
    "    print(\"Current Balance \" , self.balance)\n",
    "    add=input(\"Enter amount to be Deposited\")\n",
    "    add =int(add)\n",
    "    self.balance=self.balance + add\n",
    "    print(\"Balance \" , self.balance)  \n",
    "    \n",
    "  def withdraw(self):\n",
    "    sub=0\n",
    "    print(\"Name is holder is\" , self.name)\n",
    "    print(\"Current Balance \" , self.balance)\n",
    "    sub=input(\"Enter amount to be withdrawn\")\n",
    "    sub=int(sub)\n",
    "    if self.balance > sub:\n",
    "        self.balance=self.balance - sub\n",
    "        print(\"Balance \" , self.balance)\n",
    "    else:\n",
    "        print(\"Balance not sufficient\")"
   ]
  },
  {
   "cell_type": "code",
   "execution_count": 24,
   "metadata": {},
   "outputs": [],
   "source": [
    "p1 = bankaccount(\"Rahul\", 4)\n",
    "p2 = bankaccount(\"amit\", 200)\n",
    "p3 = bankaccount(\"ramesh\", 29)\n",
    "p4 = bankaccount(\"suresh\", 43)\n",
    "p5 = bankaccount(\"pranesh\", 400)"
   ]
  },
  {
   "cell_type": "code",
   "execution_count": 25,
   "metadata": {
    "scrolled": true
   },
   "outputs": [
    {
     "name": "stdout",
     "output_type": "stream",
     "text": [
      "Name is  suresh\n",
      "Balance is  43\n"
     ]
    }
   ],
   "source": [
    "p4.myfunc()"
   ]
  },
  {
   "cell_type": "code",
   "execution_count": 26,
   "metadata": {},
   "outputs": [
    {
     "name": "stdout",
     "output_type": "stream",
     "text": [
      "Name is holder is amit\n",
      "Current Balance  200\n",
      "Enter amount to be withdrawn100\n",
      "Balance  100\n"
     ]
    }
   ],
   "source": [
    "p2.withdraw()"
   ]
  },
  {
   "cell_type": "code",
   "execution_count": 28,
   "metadata": {},
   "outputs": [
    {
     "name": "stdout",
     "output_type": "stream",
     "text": [
      "Name is holder is amit\n",
      "Current Balance  100\n",
      "Enter amount to be withdrawn1000\n",
      "Balance not sufficient\n"
     ]
    }
   ],
   "source": [
    "p2.withdraw()"
   ]
  },
  {
   "cell_type": "code",
   "execution_count": 29,
   "metadata": {
    "scrolled": true
   },
   "outputs": [
    {
     "name": "stdout",
     "output_type": "stream",
     "text": [
      "Name is holder is amit\n",
      "Current Balance  100\n",
      "Enter amount to be Deposited1000\n",
      "Balance  1100\n"
     ]
    }
   ],
   "source": [
    "p2.deposit()"
   ]
  },
  {
   "cell_type": "code",
   "execution_count": null,
   "metadata": {},
   "outputs": [],
   "source": []
  },
  {
   "cell_type": "markdown",
   "metadata": {},
   "source": [
    "# Question 2\n"
   ]
  },
  {
   "cell_type": "code",
   "execution_count": 36,
   "metadata": {},
   "outputs": [],
   "source": [
    "import math\n",
    "class cone:\n",
    "  def __init__(self, r, h):\n",
    "    self.r = r\n",
    "    self.h = h\n",
    "\n",
    "  def myvolume(self):\n",
    "    vol=(math.pi*(self.r**2)*(self.h/3))\n",
    "    print(\"Volume is\",vol)\n",
    "    \n",
    "  def surfacearea(self):\n",
    "    sur=((math.pi*self.r)*(self.r+math.sqrt(self.h**2+self.r**2)))\n",
    "    print(\"Surface area is\",sur)"
   ]
  },
  {
   "cell_type": "code",
   "execution_count": 37,
   "metadata": {},
   "outputs": [],
   "source": [
    "p1=cone(10,10)"
   ]
  },
  {
   "cell_type": "code",
   "execution_count": 38,
   "metadata": {},
   "outputs": [
    {
     "name": "stdout",
     "output_type": "stream",
     "text": [
      "Volume is 1047.1975511965977\n"
     ]
    }
   ],
   "source": [
    "p1.myvolume()"
   ]
  },
  {
   "cell_type": "code",
   "execution_count": 39,
   "metadata": {},
   "outputs": [
    {
     "name": "stdout",
     "output_type": "stream",
     "text": [
      "Surface area is 758.447559174816\n"
     ]
    }
   ],
   "source": [
    "p1.surfacearea()"
   ]
  },
  {
   "cell_type": "code",
   "execution_count": null,
   "metadata": {},
   "outputs": [],
   "source": []
  }
 ],
 "metadata": {
  "kernelspec": {
   "display_name": "Python 3",
   "language": "python",
   "name": "python3"
  },
  "language_info": {
   "codemirror_mode": {
    "name": "ipython",
    "version": 3
   },
   "file_extension": ".py",
   "mimetype": "text/x-python",
   "name": "python",
   "nbconvert_exporter": "python",
   "pygments_lexer": "ipython3",
   "version": "3.8.3"
  }
 },
 "nbformat": 4,
 "nbformat_minor": 4
}
